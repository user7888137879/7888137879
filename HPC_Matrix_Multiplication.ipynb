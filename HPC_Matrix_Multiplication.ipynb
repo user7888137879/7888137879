{
  "nbformat": 4,
  "nbformat_minor": 0,
  "metadata": {
    "colab": {
      "provenance": [],
      "gpuType": "T4"
    },
    "kernelspec": {
      "name": "python3",
      "display_name": "Python 3"
    },
    "language_info": {
      "name": "python"
    },
    "accelerator": "GPU",
    "gpuClass": "standard"
  },
  "cells": [
    {
      "cell_type": "code",
      "execution_count": 2,
      "metadata": {
        "colab": {
          "base_uri": "https://localhost:8080/"
        },
        "id": "udVsJpHRE7ae",
        "outputId": "fd0273c5-a90c-4727-d3a6-290d4ec5af12"
      },
      "outputs": [
        {
          "output_type": "stream",
          "name": "stdout",
          "text": [
            "Looking in indexes: https://pypi.org/simple, https://us-python.pkg.dev/colab-wheels/public/simple/\n",
            "Collecting git+https://github.com/andreinechaev/nvcc4jupyter.git\n",
            "  Cloning https://github.com/andreinechaev/nvcc4jupyter.git to /tmp/pip-req-build-ukp9wdux\n",
            "  Running command git clone --filter=blob:none --quiet https://github.com/andreinechaev/nvcc4jupyter.git /tmp/pip-req-build-ukp9wdux\n",
            "  Resolved https://github.com/andreinechaev/nvcc4jupyter.git to commit aac710a35f52bb78ab34d2e52517237941399eff\n",
            "  Preparing metadata (setup.py) ... \u001b[?25l\u001b[?25hdone\n",
            "Building wheels for collected packages: NVCCPlugin\n",
            "  Building wheel for NVCCPlugin (setup.py) ... \u001b[?25l\u001b[?25hdone\n",
            "  Created wheel for NVCCPlugin: filename=NVCCPlugin-0.0.2-py3-none-any.whl size=4287 sha256=0ef4c0fc77f11e62db342df3ea565e4c703c94bc67af368acea2fa4cb7b7f44e\n",
            "  Stored in directory: /tmp/pip-ephem-wheel-cache-owhte7ri/wheels/a8/b9/18/23f8ef71ceb0f63297dd1903aedd067e6243a68ea756d6feea\n",
            "Successfully built NVCCPlugin\n",
            "Installing collected packages: NVCCPlugin\n",
            "Successfully installed NVCCPlugin-0.0.2\n"
          ]
        }
      ],
      "source": [
        "!pip install git+https://github.com/andreinechaev/nvcc4jupyter.git"
      ]
    },
    {
      "cell_type": "code",
      "source": [
        "%load_ext nvcc_plugin"
      ],
      "metadata": {
        "colab": {
          "base_uri": "https://localhost:8080/"
        },
        "id": "SgrLl26wFob3",
        "outputId": "ef875850-9794-4400-9e47-75dde6addbfb"
      },
      "execution_count": 3,
      "outputs": [
        {
          "output_type": "stream",
          "name": "stdout",
          "text": [
            "created output directory at /content/src\n",
            "Out bin /content/result.out\n"
          ]
        }
      ]
    },
    {
      "cell_type": "code",
      "source": [
        "  %%cu\n",
        "  #include <stdio.h>\n",
        "  #include <stdlib.h>\n",
        "\n",
        "  #define N 1024\n",
        "  #define BLOCK_SIZE 16\n",
        "\n",
        "  __global__ void matrixMul(int *a, int *b, int *c, int width) {\n",
        "      int row = blockIdx.y * blockDim.y + threadIdx.y;\n",
        "      int col = blockIdx.x * blockDim.x + threadIdx.x;\n",
        "      int sum = 0;\n",
        "      for (int i = 0; i < width; i++) {\n",
        "          sum += a[row * width + i] * b[i * width + col];\n",
        "      }\n",
        "      c[row * width + col] = sum;\n",
        "  }\n",
        "\n",
        "  int main() {\n",
        "      int *a, *b, *c;\n",
        "      int *d_a, *d_b, *d_c;\n",
        "      int size = N * N * sizeof(int);\n",
        "\n",
        "      // Allocate memory on host\n",
        "      a = (int*)malloc(size);\n",
        "      b = (int*)malloc(size);\n",
        "      c = (int*)malloc(size);\n",
        "\n",
        "      // Initialize matrices\n",
        "      for (int i = 0; i < N; i++) {\n",
        "          for (int j = 0; j < N; j++) {\n",
        "              a[i * N + j] = i + j;\n",
        "              b[i * N + j] = i - j;\n",
        "          }\n",
        "      }\n",
        "\n",
        "      // Allocate memory on device\n",
        "      cudaMalloc(&d_a, size);\n",
        "      cudaMalloc(&d_b, size);\n",
        "      cudaMalloc(&d_c, size);\n",
        "\n",
        "      // Copy data from host to device\n",
        "      cudaMemcpy(d_a, a, size, cudaMemcpyHostToDevice);\n",
        "      cudaMemcpy(d_b, b, size, cudaMemcpyHostToDevice);\n",
        "\n",
        "      // Launch kernel with 2D grid and 2D block\n",
        "      dim3 dimBlock(BLOCK_SIZE, BLOCK_SIZE);\n",
        "      dim3 dimGrid((N + dimBlock.x - 1) / dimBlock.x, (N + dimBlock.y - 1) / dimBlock.y);\n",
        "      matrixMul<<<dimGrid, dimBlock>>>(d_a, d_b, d_c, N);\n",
        "\n",
        "      // Copy result from device to host\n",
        "      cudaMemcpy(c, d_c, size, cudaMemcpyDeviceToHost);\n",
        "\n",
        "      // Print first and last elements of result\n",
        "      printf(\"c[0][0] = %d, c[%d][%d] = %d\\n\", c[0], N-1, N-1, c[(N-1) * N + (N-1)]);\n",
        "\n",
        "      // Free memory\n",
        "      free(a);\n",
        "      free(b);\n",
        "      free(c);\n",
        "      cudaFree(d_a);\n",
        "      cudaFree(d_b);\n",
        "      cudaFree(d_c);\n",
        "\n",
        "      return 0;\n",
        "  }\n"
      ],
      "metadata": {
        "colab": {
          "base_uri": "https://localhost:8080/"
        },
        "id": "3B2_64YdFqP9",
        "outputId": "b6e61ef8-2cc6-49d9-ec45-294a57d3fffd"
      },
      "execution_count": 4,
      "outputs": [
        {
          "output_type": "stream",
          "name": "stdout",
          "text": [
            "c[0][0] = 357389824, c[1023][1023] = -714255872\n",
            "\n"
          ]
        }
      ]
    },
    {
      "cell_type": "code",
      "source": [],
      "metadata": {
        "id": "-9Kk3Rn2GHSC"
      },
      "execution_count": 4,
      "outputs": []
    }
  ]
}